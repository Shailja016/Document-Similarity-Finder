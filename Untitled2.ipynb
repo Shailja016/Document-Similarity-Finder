{
 "cells": [
  {
   "cell_type": "code",
   "execution_count": 1,
   "id": "7d35aef3-f583-4410-adaf-98f081c93ae4",
   "metadata": {},
   "outputs": [
    {
     "name": "stdout",
     "output_type": "stream",
     "text": [
      "Requirement already satisfied: streamlit in c:\\users\\pc\\appdata\\local\\programs\\python\\python39\\lib\\site-packages (1.47.1)\n",
      "Requirement already satisfied: altair<6,>=4.0 in c:\\users\\pc\\appdata\\local\\programs\\python\\python39\\lib\\site-packages (from streamlit) (5.5.0)\n",
      "Requirement already satisfied: blinker<2,>=1.5.0 in c:\\users\\pc\\appdata\\local\\programs\\python\\python39\\lib\\site-packages (from streamlit) (1.9.0)\n",
      "Requirement already satisfied: cachetools<7,>=4.0 in c:\\users\\pc\\appdata\\local\\programs\\python\\python39\\lib\\site-packages (from streamlit) (5.5.2)\n",
      "Requirement already satisfied: click<9,>=7.0 in c:\\users\\pc\\appdata\\local\\programs\\python\\python39\\lib\\site-packages (from streamlit) (8.1.8)\n",
      "Requirement already satisfied: numpy<3,>=1.23 in c:\\users\\pc\\appdata\\local\\programs\\python\\python39\\lib\\site-packages (from streamlit) (1.23.5)\n",
      "Requirement already satisfied: packaging<26,>=20 in c:\\users\\pc\\appdata\\local\\programs\\python\\python39\\lib\\site-packages (from streamlit) (25.0)\n",
      "Requirement already satisfied: pandas<3,>=1.4.0 in c:\\users\\pc\\appdata\\local\\programs\\python\\python39\\lib\\site-packages (from streamlit) (2.3.1)\n",
      "Requirement already satisfied: pillow<12,>=7.1.0 in c:\\users\\pc\\appdata\\local\\programs\\python\\python39\\lib\\site-packages (from streamlit) (11.3.0)\n",
      "Requirement already satisfied: protobuf<7,>=3.20 in c:\\users\\pc\\appdata\\local\\programs\\python\\python39\\lib\\site-packages (from streamlit) (4.25.8)\n",
      "Requirement already satisfied: pyarrow>=7.0 in c:\\users\\pc\\appdata\\local\\programs\\python\\python39\\lib\\site-packages (from streamlit) (21.0.0)\n",
      "Requirement already satisfied: requests<3,>=2.27 in c:\\users\\pc\\appdata\\local\\programs\\python\\python39\\lib\\site-packages (from streamlit) (2.32.4)\n",
      "Requirement already satisfied: tenacity<10,>=8.1.0 in c:\\users\\pc\\appdata\\local\\programs\\python\\python39\\lib\\site-packages (from streamlit) (9.1.2)\n",
      "Requirement already satisfied: toml<2,>=0.10.1 in c:\\users\\pc\\appdata\\local\\programs\\python\\python39\\lib\\site-packages (from streamlit) (0.10.2)\n",
      "Requirement already satisfied: typing-extensions<5,>=4.4.0 in c:\\users\\pc\\appdata\\local\\programs\\python\\python39\\lib\\site-packages (from streamlit) (4.14.1)\n",
      "Requirement already satisfied: watchdog<7,>=2.1.5 in c:\\users\\pc\\appdata\\local\\programs\\python\\python39\\lib\\site-packages (from streamlit) (6.0.0)\n",
      "Requirement already satisfied: gitpython!=3.1.19,<4,>=3.0.7 in c:\\users\\pc\\appdata\\local\\programs\\python\\python39\\lib\\site-packages (from streamlit) (3.1.45)\n",
      "Requirement already satisfied: pydeck<1,>=0.8.0b4 in c:\\users\\pc\\appdata\\local\\programs\\python\\python39\\lib\\site-packages (from streamlit) (0.9.1)\n",
      "Requirement already satisfied: tornado!=6.5.0,<7,>=6.0.3 in c:\\users\\pc\\appdata\\local\\programs\\python\\python39\\lib\\site-packages (from streamlit) (6.5.1)\n",
      "Requirement already satisfied: jinja2 in c:\\users\\pc\\appdata\\local\\programs\\python\\python39\\lib\\site-packages (from altair<6,>=4.0->streamlit) (3.1.6)\n",
      "Requirement already satisfied: jsonschema>=3.0 in c:\\users\\pc\\appdata\\local\\programs\\python\\python39\\lib\\site-packages (from altair<6,>=4.0->streamlit) (4.25.0)\n",
      "Requirement already satisfied: narwhals>=1.14.2 in c:\\users\\pc\\appdata\\local\\programs\\python\\python39\\lib\\site-packages (from altair<6,>=4.0->streamlit) (1.48.1)\n",
      "Requirement already satisfied: colorama in c:\\users\\pc\\appdata\\local\\programs\\python\\python39\\lib\\site-packages (from click<9,>=7.0->streamlit) (0.4.6)\n",
      "Requirement already satisfied: gitdb<5,>=4.0.1 in c:\\users\\pc\\appdata\\local\\programs\\python\\python39\\lib\\site-packages (from gitpython!=3.1.19,<4,>=3.0.7->streamlit) (4.0.12)\n",
      "Requirement already satisfied: smmap<6,>=3.0.1 in c:\\users\\pc\\appdata\\local\\programs\\python\\python39\\lib\\site-packages (from gitdb<5,>=4.0.1->gitpython!=3.1.19,<4,>=3.0.7->streamlit) (5.0.2)\n",
      "Requirement already satisfied: python-dateutil>=2.8.2 in c:\\users\\pc\\appdata\\local\\programs\\python\\python39\\lib\\site-packages (from pandas<3,>=1.4.0->streamlit) (2.9.0.post0)\n",
      "Requirement already satisfied: pytz>=2020.1 in c:\\users\\pc\\appdata\\local\\programs\\python\\python39\\lib\\site-packages (from pandas<3,>=1.4.0->streamlit) (2025.2)\n",
      "Requirement already satisfied: tzdata>=2022.7 in c:\\users\\pc\\appdata\\local\\programs\\python\\python39\\lib\\site-packages (from pandas<3,>=1.4.0->streamlit) (2025.2)\n",
      "Requirement already satisfied: charset_normalizer<4,>=2 in c:\\users\\pc\\appdata\\local\\programs\\python\\python39\\lib\\site-packages (from requests<3,>=2.27->streamlit) (3.4.2)\n",
      "Requirement already satisfied: idna<4,>=2.5 in c:\\users\\pc\\appdata\\local\\programs\\python\\python39\\lib\\site-packages (from requests<3,>=2.27->streamlit) (3.10)\n",
      "Requirement already satisfied: urllib3<3,>=1.21.1 in c:\\users\\pc\\appdata\\local\\programs\\python\\python39\\lib\\site-packages (from requests<3,>=2.27->streamlit) (2.5.0)\n",
      "Requirement already satisfied: certifi>=2017.4.17 in c:\\users\\pc\\appdata\\local\\programs\\python\\python39\\lib\\site-packages (from requests<3,>=2.27->streamlit) (2025.7.14)\n",
      "Requirement already satisfied: MarkupSafe>=2.0 in c:\\users\\pc\\appdata\\local\\programs\\python\\python39\\lib\\site-packages (from jinja2->altair<6,>=4.0->streamlit) (3.0.2)\n",
      "Requirement already satisfied: attrs>=22.2.0 in c:\\users\\pc\\appdata\\local\\programs\\python\\python39\\lib\\site-packages (from jsonschema>=3.0->altair<6,>=4.0->streamlit) (25.3.0)\n",
      "Requirement already satisfied: jsonschema-specifications>=2023.03.6 in c:\\users\\pc\\appdata\\local\\programs\\python\\python39\\lib\\site-packages (from jsonschema>=3.0->altair<6,>=4.0->streamlit) (2025.4.1)\n",
      "Requirement already satisfied: referencing>=0.28.4 in c:\\users\\pc\\appdata\\local\\programs\\python\\python39\\lib\\site-packages (from jsonschema>=3.0->altair<6,>=4.0->streamlit) (0.36.2)\n",
      "Requirement already satisfied: rpds-py>=0.7.1 in c:\\users\\pc\\appdata\\local\\programs\\python\\python39\\lib\\site-packages (from jsonschema>=3.0->altair<6,>=4.0->streamlit) (0.26.0)\n",
      "Requirement already satisfied: six>=1.5 in c:\\users\\pc\\appdata\\local\\programs\\python\\python39\\lib\\site-packages (from python-dateutil>=2.8.2->pandas<3,>=1.4.0->streamlit) (1.17.0)\n"
     ]
    }
   ],
   "source": [
    "!pip install streamlit\n",
    "\n"
   ]
  },
  {
   "cell_type": "code",
   "execution_count": null,
   "id": "be5b5c93-4782-47ee-8963-490fc30be0b1",
   "metadata": {},
   "outputs": [],
   "source": [
    "!pip install ijson\n",
    "import streamlit as st\n",
    "import torch\n",
    "import pandas as pd\n",
    "from sentence_transformers import SentenceTransformer, util\n",
    "from sklearn.manifold import TSNE\n",
    "from sklearn.cluster import KMeans\n",
    "import matplotlib.pyplot as plt\n",
    "import seaborn as sns\n",
    "import numpy as np"
   ]
  },
  {
   "cell_type": "code",
   "execution_count": null,
   "id": "1d4c393b-667e-4a32-a075-6db6c42c42f5",
   "metadata": {},
   "outputs": [],
   "source": [
    "# Set Streamlit page config\n",
    "st.set_page_config(page_title=\"Document Similarity Finder\", layout=\"wide\")"
   ]
  },
  {
   "cell_type": "code",
   "execution_count": null,
   "id": "2142b54d-4ac9-43f0-9e87-02a38e7b96db",
   "metadata": {},
   "outputs": [],
   "source": [
    "# Load SBERT model\n",
    "@st.cache_resource\n",
    "def load_model():\n",
    "    return SentenceTransformer('all-MiniLM-L6-v2')"
   ]
  },
  {
   "cell_type": "code",
   "execution_count": null,
   "id": "8948eba6-77f2-4a82-b17b-fbfa6bedb5bb",
   "metadata": {},
   "outputs": [],
   "source": [
    "model = load_model()"
   ]
  },
  {
   "cell_type": "code",
   "execution_count": null,
   "id": "cecf8557-d871-49e0-b1d5-dc05eabb4616",
   "metadata": {},
   "outputs": [],
   "source": [
    "st.title(\"📄 Document Similarity Finder with SBERT\")"
   ]
  },
  {
   "cell_type": "code",
   "execution_count": null,
   "id": "47fb159a-143f-4d95-9fcc-2958c58874a8",
   "metadata": {},
   "outputs": [],
   "source": [
    "uploaded_file = st.file_uploader(\"Upload your Excel file containing abstracts\", type=[\"xlsx\"])"
   ]
  },
  {
   "cell_type": "code",
   "execution_count": null,
   "id": "4b963ea2-eb71-42f3-bad9-ee4b04740915",
   "metadata": {},
   "outputs": [],
   "source": [
    "if uploaded_file:\n",
    "    df = pd.read_excel(uploaded_file)\n",
    "\n",
    "    if 'abstract' not in df.columns:\n",
    "        st.error(\"The Excel file must contain a column named 'abstract'\")\n",
    "    else:\n",
    "        abstracts = df['abstract'].astype(str).tolist()\n",
    "\n",
    "        # Encode abstracts\n",
    "        with st.spinner(\"Encoding abstracts using SBERT...\"):\n",
    "            embeddings = model.encode(abstracts, convert_to_tensor=True)\n",
    "\n",
    "        # Cosine similarity matrix\n",
    "        cosine_scores = util.cos_sim(embeddings, embeddings)\n",
    "        cosine_df = pd.DataFrame(cosine_scores.cpu().numpy())\n",
    "\n",
    "        # Show heatmap of top 10\n",
    "        st.subheader(\"🔗 Cosine Similarity Heatmap (Top 10)\")\n",
    "        fig, ax = plt.subplots(figsize=(10, 8))\n",
    "        sns.heatmap(cosine_df.iloc[:10, :10], annot=True, cmap='coolwarm', fmt=\".2f\", square=True)\n",
    "        st.pyplot(fig)\n",
    "\n",
    "        # Show top N similar pairs\n",
    "        top_n = st.slider(\"Select number of top similar pairs to show:\", 5, 20, 10)\n",
    "        st.subheader(f\"📊 Top {top_n} Most Similar Document Pairs\")\n",
    "\n",
    "        similarities = []\n",
    "        for i in range(len(abstracts)):\n",
    "            for j in range(i + 1, len(abstracts)):\n",
    "                sim_score = cosine_scores[i][j].item()\n",
    "                similarities.append((i, j, sim_score))\n",
    "\n",
    "        similarities = sorted(similarities, key=lambda x: x[2], reverse=True)\n",
    "\n",
    "        for idx, (i, j, score) in enumerate(similarities[:top_n]):\n",
    "            st.markdown(f\"**Pair {idx + 1}:**\")\n",
    "            st.write(f\"**Document {i+1}**: {abstracts[i][:200]}...\")\n",
    "            st.write(f\"**Document {j+1}**: {abstracts[j][:200]}...\")\n",
    "            st.write(f\"**Cosine Similarity:** {score:.4f}\")\n",
    "            st.markdown(\"---\")\n",
    "\n",
    "        # Clustering\n",
    "        st.subheader(\"📌 Clustering with KMeans + TSNE Visualization\")\n",
    "        num_clusters = st.slider(\"Select number of clusters:\", 2, 10, 5)\n",
    "        kmeans = KMeans(n_clusters=num_clusters, random_state=42)\n",
    "        cluster_labels = kmeans.fit_predict(embeddings.cpu().numpy())\n",
    "\n",
    "        tsne = TSNE(n_components=2, perplexity=30, n_iter=1000, random_state=42)\n",
    "        reduced = tsne.fit_transform(embeddings.cpu().numpy())\n",
    "\n",
    "        cluster_df = pd.DataFrame(reduced, columns=[\"x\", \"y\"])\n",
    "        cluster_df['Cluster'] = cluster_labels\n",
    "\n",
    "        fig2, ax2 = plt.subplots(figsize=(10, 6))\n",
    "        sns.scatterplot(data=cluster_df, x='x', y='y', hue='Cluster', palette='tab10', s=100)\n",
    "        plt.title(\"TSNE Plot of Abstracts Clustering\")\n",
    "        st.pyplot(fig2)\n",
    "\n",
    "        # Search interface\n",
    "        st.subheader(\"🔍 Find Similar Documents to a Query\")\n",
    "        query = st.text_input(\"Enter your query to find similar abstracts\")\n",
    "        if query:\n",
    "            query_embedding = model.encode(query, convert_to_tensor=True)\n",
    "            query_scores = util.cos_sim(query_embedding, embeddings)[0]\n",
    "            top_results = torch.topk(query_scores, k=5)\n",
    "\n",
    "            st.markdown(\"### 🔎 Top 5 Matches:\")\n",
    "            for idx, score in zip(top_results.indices, top_results.values):\n",
    "                st.write(f\"**Abstract {idx.item() + 1}:** {abstracts[idx.item()][:250]}...\")\n",
    "                st.write(f\"**Similarity Score:** {score.item():.4f}\")\n",
    "                st.markdown(\"---\")\n"
   ]
  },
  {
   "cell_type": "code",
   "execution_count": null,
   "id": "cb2270a0-83a1-4274-a3a8-73f39fb29343",
   "metadata": {},
   "outputs": [],
   "source": []
  }
 ],
 "metadata": {
  "kernelspec": {
   "display_name": "Python 3 (ipykernel)",
   "language": "python",
   "name": "python3"
  },
  "language_info": {
   "codemirror_mode": {
    "name": "ipython",
    "version": 3
   },
   "file_extension": ".py",
   "mimetype": "text/x-python",
   "name": "python",
   "nbconvert_exporter": "python",
   "pygments_lexer": "ipython3",
   "version": "3.9.10"
  }
 },
 "nbformat": 4,
 "nbformat_minor": 5
}
